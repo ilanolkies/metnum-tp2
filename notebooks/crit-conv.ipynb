{
 "cells": [
  {
   "cell_type": "markdown",
   "metadata": {},
   "source": [
    "## Compilacion"
   ]
  },
  {
   "cell_type": "code",
   "execution_count": 101,
   "metadata": {},
   "outputs": [
    {
     "name": "stdout",
     "output_type": "stream",
     "text": [
      "mkdir: build: File exists\n",
      "-- The C compiler identification is AppleClang 11.0.0.11000033\n",
      "-- The CXX compiler identification is AppleClang 11.0.0.11000033\n",
      "-- Check for working C compiler: /Applications/Xcode.app/Contents/Developer/Toolchains/XcodeDefault.xctoolchain/usr/bin/cc\n",
      "-- Check for working C compiler: /Applications/Xcode.app/Contents/Developer/Toolchains/XcodeDefault.xctoolchain/usr/bin/cc -- works\n",
      "-- Detecting C compiler ABI info\n",
      "-- Detecting C compiler ABI info - done\n",
      "-- Detecting C compile features\n",
      "-- Detecting C compile features - done\n",
      "-- Check for working CXX compiler: /Applications/Xcode.app/Contents/Developer/Toolchains/XcodeDefault.xctoolchain/usr/bin/c++\n",
      "-- Check for working CXX compiler: /Applications/Xcode.app/Contents/Developer/Toolchains/XcodeDefault.xctoolchain/usr/bin/c++ -- works\n",
      "-- Detecting CXX compiler ABI info\n",
      "-- Detecting CXX compiler ABI info - done\n",
      "-- Detecting CXX compile features\n",
      "-- Detecting CXX compile features - done\n",
      "Release mode\n",
      "-- Found PythonInterp: /Users/ilan/.pyenv/versions/tp2/bin/python (found version \"3.6.5\") \n",
      "-- Found PythonLibs: /Users/ilan/.pyenv/versions/3.6.5/lib/libpython3.6m.a\n",
      "-- pybind11 v2.3.dev0\n",
      "-- Performing Test HAS_FLTO\n",
      "-- Performing Test HAS_FLTO - Success\n",
      "-- LTO enabled\n",
      "CMAKE_INSTALL_PREFIX=/Users/ilan/Code/metnum-tp2\n",
      "-- Configuring done\n",
      "-- Generating done\n",
      "-- Build files have been written to: /Users/ilan/Code/metnum-tp2/build\n",
      "\u001b[35m\u001b[1mScanning dependencies of target tp2\u001b[0m\n",
      "[ 10%] \u001b[32mBuilding CXX object CMakeFiles/tp2.dir/src/main.cpp.o\u001b[0m\n",
      "\u001b[1m/Users/ilan/Code/metnum-tp2/src/main.cpp:44:31: \u001b[0m\u001b[0;1;31merror: \u001b[0m\u001b[1mtoo many arguments to\n",
      "      function call, expected 0, have 1\u001b[0m\n",
      "        printf(\"%f\\n\", M.rows(i)[i];\n",
      "\u001b[0;1;32m                       ~~~~~~ ^\n",
      "\u001b[0m\u001b[1m/Users/ilan/Code/metnum-tp2/eigen/Eigen/src/Core/PlainObjectBase.h:151:5: \u001b[0m\u001b[0;1;30mnote: \u001b[0m\n",
      "      'rows' declared here\u001b[0m\n",
      "    EIGEN_STRONG_INLINE Index rows() const { return m_storage.rows(); }\n",
      "\u001b[0;1;32m    ^\n",
      "\u001b[0m\u001b[1m/Users/ilan/Code/metnum-tp2/eigen/Eigen/src/Core/util/Macros.h:759:29: \u001b[0m\u001b[0;1;30mnote: \u001b[0m\n",
      "      expanded from macro 'EIGEN_STRONG_INLINE'\u001b[0m\n",
      "#define EIGEN_STRONG_INLINE inline\n",
      "\u001b[0;1;32m                            ^\n",
      "\u001b[0m\u001b[1m/Users/ilan/Code/metnum-tp2/src/main.cpp:49:10: \u001b[0m\u001b[0;1;31merror: \u001b[0m\u001b[1muse of undeclared\n",
      "      identifier 'myfile'\u001b[0m\n",
      "    if (!myfile.is_open()) {\n",
      "\u001b[0;1;32m         ^\n",
      "\u001b[0m\u001b[1m/Users/ilan/Code/metnum-tp2/src/main.cpp:61:9: \u001b[0m\u001b[0;1;31merror: \u001b[0m\u001b[1muse of undeclared\n",
      "      identifier 'myfile'; did you mean 'tmpfile'?\u001b[0m\n",
      "        myfile << i << \",\" << (t.first - expected).norm() << \",\" << (t0-...\n",
      "\u001b[0;1;32m        ^~~~~~\n",
      "\u001b[0m\u001b[0;32m        tmpfile\n",
      "\u001b[0m\u001b[1m/Applications/Xcode.app/Contents/Developer/Platforms/MacOSX.platform/Developer/SDKs/MacOSX10.15.sdk/usr/include/stdio.h:182:7: \u001b[0m\u001b[0;1;30mnote: \u001b[0m\n",
      "      'tmpfile' declared here\u001b[0m\n",
      "FILE    *tmpfile(void);\n",
      "\u001b[0;1;32m         ^\n",
      "\u001b[0m\u001b[1m/Users/ilan/Code/metnum-tp2/src/main.cpp:61:16: \u001b[0m\u001b[0;1;31merror: \u001b[0m\u001b[1minvalid operands to\n",
      "      binary expression ('FILE *()' (aka '__sFILE *()') and 'uint'\n",
      "      (aka 'unsigned int'))\u001b[0m\n",
      "        myfile << i << \",\" << (t.first - expected).norm() << \",\" << (t0-...\n",
      "\u001b[0;1;32m        ~~~~~~ ^  ~\n",
      "\u001b[0m\u001b[1m/Users/ilan/Code/metnum-tp2/src/main.cpp:64:5: \u001b[0m\u001b[0;1;31merror: \u001b[0m\u001b[1muse of undeclared\n",
      "      identifier 'myfile'; did you mean 'tmpfile'?\u001b[0m\n",
      "    myfile.close();\n",
      "\u001b[0;1;32m    ^~~~~~\n",
      "\u001b[0m\u001b[0;32m    tmpfile\n",
      "\u001b[0m\u001b[1m/Applications/Xcode.app/Contents/Developer/Platforms/MacOSX.platform/Developer/SDKs/MacOSX10.15.sdk/usr/include/stdio.h:182:7: \u001b[0m\u001b[0;1;30mnote: \u001b[0m\n",
      "      'tmpfile' declared here\u001b[0m\n",
      "FILE    *tmpfile(void);\n",
      "\u001b[0;1;32m         ^\n",
      "\u001b[0m\u001b[1m/Users/ilan/Code/metnum-tp2/src/main.cpp:64:11: \u001b[0m\u001b[0;1;31merror: \u001b[0m\u001b[1mmember reference base\n",
      "      type 'FILE *()' (aka '__sFILE *()') is not a structure or union\u001b[0m\n",
      "    myfile.close();\n",
      "\u001b[0;1;32m    ~~~~~~^~~~~~\n",
      "\u001b[0m\u001b[1m/Users/ilan/Code/metnum-tp2/src/main.cpp:85:2: \u001b[0m\u001b[0;1;31merror: \u001b[0m\u001b[1mexpected '}'\u001b[0m\n",
      "}\n",
      "\u001b[0;1;32m ^\n",
      "\u001b[0m\u001b[1m/Users/ilan/Code/metnum-tp2/src/main.cpp:11:33: \u001b[0m\u001b[0;1;30mnote: \u001b[0mto match this '{'\u001b[0m\n",
      "int main(int argc, char** argv) {\n",
      "\u001b[0;1;32m                                ^\n",
      "\u001b[0m7 errors generated.\n",
      "make[2]: *** [CMakeFiles/tp2.dir/src/main.cpp.o] Error 1\n",
      "make[1]: *** [CMakeFiles/tp2.dir/all] Error 2\n",
      "make: *** [all] Error 2\n"
     ]
    }
   ],
   "source": [
    "!cd .. && git submodule init\n",
    "!cd .. && git submodule update\n",
    "!cd .. && mkdir build\n",
    "!cd ../build/ && rm -rf *\n",
    "!cd ../build && cmake \\\n",
    "  -DPYTHON_EXECUTABLE=\"$(which python)\" \\\n",
    "  -DCMAKE_BUILD_TYPE=Release ..\n",
    "!cd ../build && make install"
   ]
  },
  {
   "cell_type": "markdown",
   "metadata": {},
   "source": [
    "## Creamos matriz de covarianza"
   ]
  },
  {
   "cell_type": "code",
   "execution_count": 102,
   "metadata": {},
   "outputs": [
    {
     "name": "stdout",
     "output_type": "stream",
     "text": [
      "[ 1.19835824e+01 -4.75421630e-01 -4.75421630e-01  1.64794580e+00\n",
      "  1.64794580e+00 -1.45677411e+00 -1.45677411e+00 -1.91045159e+00\n",
      "  1.76060734e+00  1.74054146e-01  1.74054146e-01 -1.71795905e+00\n",
      "  9.48885977e-01  9.48885977e-01  1.60865293e+00 -1.27528600e+00\n",
      " -1.27528600e+00  1.42436878e+00  1.42436878e+00 -1.44394647e+00\n",
      " -4.18944690e-02 -4.18944690e-02  8.85966427e-01  8.85966427e-01\n",
      "  4.51822556e-01  4.51822556e-01 -4.17429844e-01 -4.17429844e-01\n",
      " -9.69306438e-01 -9.69306438e-01 -7.89726806e-01 -7.89726806e-01\n",
      " -1.15475211e+00  1.11789298e+00  1.07541471e+00  1.07541471e+00\n",
      "  8.73925684e-01  8.73925684e-01 -7.34502053e-01 -7.34502053e-01\n",
      " -4.22883464e-01 -4.22883464e-01 -8.79551558e-01  3.14445943e-01\n",
      "  3.14445943e-01  5.71453245e-01  5.71453245e-01  6.50779686e-01\n",
      "  6.50779686e-01 -7.31609342e-01  8.88238203e-02  8.88238203e-02\n",
      "  5.79621407e-01 -6.20665742e-01 -6.20665742e-01 -3.75645299e-01\n",
      " -3.75645299e-01  3.26145860e-01  3.26145860e-01  1.57664002e-03\n",
      "  1.57664002e-03 -4.18879536e-01 -4.18879536e-01 -1.90704801e-01\n",
      " -1.90704801e-01 -4.40844639e-01 -4.40844639e-01 -4.95506690e-01\n",
      " -4.95506690e-01  2.23488907e-01  2.23488907e-01  3.47993459e-01\n",
      "  3.47993459e-01  9.56528984e-02  9.56528984e-02  4.74061616e-01\n",
      "  4.53588016e-01 -2.79836832e-01 -2.79836832e-01 -5.06952295e-03\n",
      " -5.06952295e-03  2.80357710e-01  2.80357710e-01  6.62902320e-03\n",
      "  6.62902320e-03 -2.30256176e-01 -2.30256176e-01  2.37334767e-01\n",
      "  9.85585401e-02  9.85585401e-02  1.59462093e-01  1.59462093e-01\n",
      " -1.30176584e-01 -1.22577638e-01 -1.22577638e-01  1.41399002e-01\n",
      "  1.41399002e-01  1.75685032e-02  1.75685032e-02 -3.90510066e-02]\n"
     ]
    }
   ],
   "source": [
    "from sklearn import datasets\n",
    "import numpy as np\n",
    "import pandas as pd\n",
    "import matplotlib.pyplot as plt\n",
    "from sklearn.datasets import fetch_openml\n",
    "from sklearn.feature_extraction.text import CountVectorizer\n",
    "import os\n",
    "\n",
    "def get_instances(df, max_df=0.90, min_df=0.1):\n",
    "  text_train = df[df.type == 'train'][\"review\"]\n",
    "  label_train = df[df.type == 'train'][\"label\"]\n",
    "\n",
    "  text_test = df[df.type == 'test'][\"review\"]\n",
    "  label_test = df[df.type == 'test'][\"label\"]\n",
    "\n",
    "  vectorizer = CountVectorizer(max_df=max_df, min_df=min_df, max_features=5000)\n",
    "\n",
    "  vectorizer.fit(text_train)\n",
    "\n",
    "  X_train, y_train = vectorizer.transform(text_train), (label_train == 'pos').values\n",
    "  X_test, y_test = vectorizer.transform(text_test), (label_test == 'pos').values\n",
    "\n",
    "  return X_train, y_train, X_test, y_test\n",
    "\n",
    "# datasets de train y test\n",
    "df = pd.read_csv(\"../data/imdb_small.csv\")\n",
    "\n",
    "X_train, y_train, X_test, y_test = get_instances(df)\n",
    "\n",
    "M = (X_train - X_train.mean(axis=0))\n",
    "\n",
    "cov_matrix = M.T @ M / (M.shape[0]-1)\n",
    "cov_matrix = cov_matrix.copy()\n",
    "cov_matrix.resize((100, 100))\n",
    "\n",
    "np.savetxt('../results/predict_cov_matrix_size.txt', cov_matrix.shape)\n",
    "np.savetxt('../results/predict_cov_matrix.txt', cov_matrix)\n",
    "\n",
    "w, V = np.linalg.eig(cov_matrix)\n",
    "\n",
    "# A veces aparecen números complejos acá. Los descartamos\n",
    "w = np.real(w)\n",
    "V = np.real(V)\n",
    "print(w)\n",
    "np.savetxt('../results/predict_eigen_v.txt', w)\n",
    "np.savetxt('../results/predict_eigen_W.txt', V)"
   ]
  },
  {
   "cell_type": "markdown",
   "metadata": {},
   "source": [
    "## Corremos el test que varia eps y num_its"
   ]
  },
  {
   "cell_type": "code",
   "execution_count": 103,
   "metadata": {},
   "outputs": [
    {
     "data": {
      "text/plain": [
       "32512"
      ]
     },
     "execution_count": 103,
     "metadata": {},
     "output_type": "execute_result"
    }
   ],
   "source": [
    "import os\n",
    "\n",
    "os.system('./../build/tp2')"
   ]
  },
  {
   "cell_type": "code",
   "execution_count": null,
   "metadata": {},
   "outputs": [],
   "source": []
  },
  {
   "cell_type": "code",
   "execution_count": null,
   "metadata": {},
   "outputs": [],
   "source": []
  }
 ],
 "metadata": {
  "kernelspec": {
   "display_name": "Python 3",
   "language": "python",
   "name": "python3"
  },
  "language_info": {
   "codemirror_mode": {
    "name": "ipython",
    "version": 3
   },
   "file_extension": ".py",
   "mimetype": "text/x-python",
   "name": "python",
   "nbconvert_exporter": "python",
   "pygments_lexer": "ipython3",
   "version": "3.6.5"
  }
 },
 "nbformat": 4,
 "nbformat_minor": 2
}
